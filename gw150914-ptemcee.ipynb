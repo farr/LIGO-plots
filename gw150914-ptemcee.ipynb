{
 "cells": [
  {
   "cell_type": "code",
   "execution_count": 1,
   "metadata": {},
   "outputs": [],
   "source": [
    "%matplotlib inline\n",
    "%config InlineBackend.figure_format = 'retina'"
   ]
  },
  {
   "cell_type": "code",
   "execution_count": 13,
   "metadata": {},
   "outputs": [],
   "source": [
    "import bilby\n",
    "from gwpy.timeseries import TimeSeries\n",
    "import numpy as np\n",
    "import ptemcee"
   ]
  },
  {
   "cell_type": "code",
   "execution_count": 3,
   "metadata": {},
   "outputs": [],
   "source": [
    "logger = bilby.core.utils.logger\n",
    "outdir = \"GW150914-outdir\"\n",
    "label = \"GW150914\"\n"
   ]
  },
  {
   "cell_type": "code",
   "execution_count": 4,
   "metadata": {},
   "outputs": [],
   "source": [
    "trigger_time = 1126259462.4\n",
    "detectors = [\"H1\", \"L1\"]\n",
    "maximum_frequency = 512\n",
    "minimum_frequency = 20\n",
    "roll_off = 0.4  # Roll off duration of tukey window in seconds, default is 0.4s\n",
    "duration = 4  # Analysis segment duration\n",
    "post_trigger_duration = 2  # Time between trigger time and end of segment\n",
    "end_time = trigger_time + post_trigger_duration\n",
    "start_time = end_time - duration"
   ]
  },
  {
   "cell_type": "code",
   "execution_count": 5,
   "metadata": {},
   "outputs": [],
   "source": [
    "psd_duration = 32 * duration\n",
    "psd_start_time = start_time - psd_duration\n",
    "psd_end_time = start_time"
   ]
  },
  {
   "cell_type": "code",
   "execution_count": 6,
   "metadata": {},
   "outputs": [
    {
     "name": "stderr",
     "output_type": "stream",
     "text": [
      "19:49 bilby INFO    : Downloading analysis data for ifo H1\n",
      "19:49 bilby INFO    : Downloading psd data for ifo H1\n",
      "19:52 bilby INFO    : Downloading analysis data for ifo L1\n",
      "19:52 bilby INFO    : Downloading psd data for ifo L1\n"
     ]
    }
   ],
   "source": [
    "ifo_list = bilby.gw.detector.InterferometerList([])\n",
    "for det in detectors:\n",
    "    logger.info(\"Downloading analysis data for ifo {}\".format(det))\n",
    "    ifo = bilby.gw.detector.get_empty_interferometer(det)\n",
    "    data = TimeSeries.fetch_open_data(det, start_time, end_time)\n",
    "    ifo.strain_data.set_from_gwpy_timeseries(data)\n",
    "\n",
    "    logger.info(\"Downloading psd data for ifo {}\".format(det))\n",
    "    psd_data = TimeSeries.fetch_open_data(det, psd_start_time, psd_end_time)\n",
    "    psd_alpha = 2 * roll_off / duration\n",
    "    psd = psd_data.psd(\n",
    "        fftlength=duration, overlap=0, window=(\"tukey\", psd_alpha), method=\"median\"\n",
    "    )\n",
    "    ifo.power_spectral_density = bilby.gw.detector.PowerSpectralDensity(\n",
    "        frequency_array=psd.frequencies.value, psd_array=psd.value\n",
    "    )\n",
    "    ifo.maximum_frequency = maximum_frequency\n",
    "    ifo.minimum_frequency = minimum_frequency\n",
    "    ifo_list.append(ifo)"
   ]
  },
  {
   "cell_type": "code",
   "execution_count": 7,
   "metadata": {},
   "outputs": [
    {
     "name": "stderr",
     "output_type": "stream",
     "text": [
      "19:54 bilby INFO    : Saving data plots to GW150914-outdir\n",
      "19:54 bilby INFO    : Generating frequency domain strain from given time domain strain.\n",
      "19:54 bilby INFO    : Applying a tukey window with alpha=0.1, roll off=0.2\n",
      "19:54 bilby INFO    : Generating frequency domain strain from given time domain strain.\n",
      "19:54 bilby INFO    : Applying a tukey window with alpha=0.1, roll off=0.2\n"
     ]
    }
   ],
   "source": [
    "logger.info(\"Saving data plots to {}\".format(outdir))\n",
    "bilby.core.utils.check_directory_exists_and_if_not_mkdir(outdir)\n",
    "ifo_list.plot_data(outdir=outdir, label=label)"
   ]
  },
  {
   "cell_type": "code",
   "execution_count": 8,
   "metadata": {},
   "outputs": [],
   "source": [
    "priors = bilby.gw.prior.BBHPriorDict(filename=\"GW150914.prior\")\n",
    "\n",
    "priors[\"geocent_time\"] = bilby.core.prior.Uniform(\n",
    "    trigger_time - 0.1, trigger_time + 0.1, name=\"geocent_time\"\n",
    ")"
   ]
  },
  {
   "cell_type": "code",
   "execution_count": 9,
   "metadata": {},
   "outputs": [
    {
     "name": "stderr",
     "output_type": "stream",
     "text": [
      "19:54 bilby INFO    : Waveform generator initiated with\n",
      "  frequency_domain_source_model: bilby.gw.source.lal_binary_black_hole\n",
      "  time_domain_source_model: None\n",
      "  parameter_conversion: bilby.gw.conversion.convert_to_lal_binary_black_hole_parameters\n"
     ]
    }
   ],
   "source": [
    "waveform_generator = bilby.gw.WaveformGenerator(\n",
    "    frequency_domain_source_model=bilby.gw.source.lal_binary_black_hole,\n",
    "    parameter_conversion=bilby.gw.conversion.convert_to_lal_binary_black_hole_parameters,\n",
    "    waveform_arguments={\n",
    "        \"waveform_approximant\": \"IMRPhenomXPHM\",\n",
    "        \"reference_frequency\": 50,\n",
    "    },\n",
    ")"
   ]
  },
  {
   "cell_type": "code",
   "execution_count": 10,
   "metadata": {},
   "outputs": [],
   "source": [
    "likelihood = bilby.gw.likelihood.GravitationalWaveTransient(\n",
    "    ifo_list,\n",
    "    waveform_generator,\n",
    "    priors=priors,\n",
    "    time_marginalization=True,\n",
    "    phase_marginalization=False,\n",
    "    distance_marginalization=False,\n",
    ")"
   ]
  },
  {
   "cell_type": "code",
   "execution_count": 11,
   "metadata": {},
   "outputs": [
    {
     "ename": "SamplerNotInstalledError",
     "evalue": "Sampler PTMCMCSampler is not installed on this system",
     "output_type": "error",
     "traceback": [
      "\u001b[0;31m---------------------------------------------------------------------------\u001b[0m",
      "\u001b[0;31mModuleNotFoundError\u001b[0m                       Traceback (most recent call last)",
      "File \u001b[0;32m~/miniconda3/envs/ligo/lib/python3.10/site-packages/bilby/core/sampler/ptmcmc.py:76\u001b[0m, in \u001b[0;36mPTMCMCSampler._verify_external_sampler\u001b[0;34m(self)\u001b[0m\n\u001b[1;32m     75\u001b[0m \u001b[39mtry\u001b[39;00m:\n\u001b[0;32m---> 76\u001b[0m     \u001b[39mself\u001b[39m\u001b[39m.\u001b[39mexternal_sampler \u001b[39m=\u001b[39m \u001b[39m__import__\u001b[39;49m(external_sampler_name)\n\u001b[1;32m     77\u001b[0m \u001b[39mexcept\u001b[39;00m (\u001b[39mImportError\u001b[39;00m, \u001b[39mSystemExit\u001b[39;00m):\n",
      "\u001b[0;31mModuleNotFoundError\u001b[0m: No module named 'PTMCMCSampler'",
      "\nDuring handling of the above exception, another exception occurred:\n",
      "\u001b[0;31mSamplerNotInstalledError\u001b[0m                  Traceback (most recent call last)",
      "\u001b[1;32m/Users/wfarr/Research/LIGO-plots/gw150914-ptemcee.ipynb Cell 11\u001b[0m in \u001b[0;36m<cell line: 1>\u001b[0;34m()\u001b[0m\n\u001b[0;32m----> <a href='vscode-notebook-cell:/Users/wfarr/Research/LIGO-plots/gw150914-ptemcee.ipynb#ch0000011?line=0'>1</a>\u001b[0m sampler \u001b[39m=\u001b[39m bilby\u001b[39m.\u001b[39;49msampler\u001b[39m.\u001b[39;49mPTMCMCSampler(likelihood, priors, outdir\u001b[39m=\u001b[39;49moutdir, label\u001b[39m=\u001b[39;49mlabel, \n\u001b[1;32m      <a href='vscode-notebook-cell:/Users/wfarr/Research/LIGO-plots/gw150914-ptemcee.ipynb#ch0000011?line=1'>2</a>\u001b[0m                                       nwalkers\u001b[39m=\u001b[39;49m\u001b[39m64\u001b[39;49m, ntemps\u001b[39m=\u001b[39;49m\u001b[39m8\u001b[39;49m, \n\u001b[1;32m      <a href='vscode-notebook-cell:/Users/wfarr/Research/LIGO-plots/gw150914-ptemcee.ipynb#ch0000011?line=2'>3</a>\u001b[0m                                       adapt\u001b[39m=\u001b[39;49m\u001b[39mTrue\u001b[39;49;00m, adaptation_time\u001b[39m=\u001b[39;49m\u001b[39m10\u001b[39;49m, adaptation_lag\u001b[39m=\u001b[39;49m\u001b[39m100\u001b[39;49m, Tmax\u001b[39m=\u001b[39;49mnp\u001b[39m.\u001b[39;49minf)\n",
      "File \u001b[0;32m~/miniconda3/envs/ligo/lib/python3.10/site-packages/bilby/core/sampler/ptmcmc.py:61\u001b[0m, in \u001b[0;36mPTMCMCSampler.__init__\u001b[0;34m(self, likelihood, priors, outdir, label, use_ratio, plot, skip_import_verification, pos0, burn_in_fraction, **kwargs)\u001b[0m\n\u001b[1;32m     57\u001b[0m \u001b[39mdef\u001b[39;00m \u001b[39m__init__\u001b[39m(\u001b[39mself\u001b[39m, likelihood, priors, outdir\u001b[39m=\u001b[39m\u001b[39m'\u001b[39m\u001b[39moutdir\u001b[39m\u001b[39m'\u001b[39m, label\u001b[39m=\u001b[39m\u001b[39m'\u001b[39m\u001b[39mlabel\u001b[39m\u001b[39m'\u001b[39m,\n\u001b[1;32m     58\u001b[0m              use_ratio\u001b[39m=\u001b[39m\u001b[39mFalse\u001b[39;00m, plot\u001b[39m=\u001b[39m\u001b[39mFalse\u001b[39;00m, skip_import_verification\u001b[39m=\u001b[39m\u001b[39mFalse\u001b[39;00m,\n\u001b[1;32m     59\u001b[0m              pos0\u001b[39m=\u001b[39m\u001b[39mNone\u001b[39;00m, burn_in_fraction\u001b[39m=\u001b[39m\u001b[39m0.25\u001b[39m, \u001b[39m*\u001b[39m\u001b[39m*\u001b[39mkwargs):\n\u001b[0;32m---> 61\u001b[0m     \u001b[39msuper\u001b[39;49m(PTMCMCSampler, \u001b[39mself\u001b[39;49m)\u001b[39m.\u001b[39;49m\u001b[39m__init__\u001b[39;49m(likelihood\u001b[39m=\u001b[39;49mlikelihood, priors\u001b[39m=\u001b[39;49mpriors,\n\u001b[1;32m     62\u001b[0m                                         outdir\u001b[39m=\u001b[39;49moutdir, label\u001b[39m=\u001b[39;49mlabel, use_ratio\u001b[39m=\u001b[39;49muse_ratio,\n\u001b[1;32m     63\u001b[0m                                         plot\u001b[39m=\u001b[39;49mplot,\n\u001b[1;32m     64\u001b[0m                                         skip_import_verification\u001b[39m=\u001b[39;49mskip_import_verification,\n\u001b[1;32m     65\u001b[0m                                         \u001b[39m*\u001b[39;49m\u001b[39m*\u001b[39;49mkwargs)\n\u001b[1;32m     67\u001b[0m     \u001b[39mself\u001b[39m\u001b[39m.\u001b[39mp0 \u001b[39m=\u001b[39m \u001b[39mself\u001b[39m\u001b[39m.\u001b[39mget_random_draw_from_prior()\n\u001b[1;32m     68\u001b[0m     \u001b[39mself\u001b[39m\u001b[39m.\u001b[39mlikelihood \u001b[39m=\u001b[39m likelihood\n",
      "File \u001b[0;32m~/miniconda3/envs/ligo/lib/python3.10/site-packages/bilby/core/sampler/base_sampler.py:112\u001b[0m, in \u001b[0;36mSampler.__init__\u001b[0;34m(self, likelihood, priors, outdir, label, use_ratio, plot, skip_import_verification, injection_parameters, meta_data, result_class, likelihood_benchmark, soft_init, exit_code, **kwargs)\u001b[0m\n\u001b[1;32m    110\u001b[0m \u001b[39mself\u001b[39m\u001b[39m.\u001b[39muse_ratio \u001b[39m=\u001b[39m use_ratio\n\u001b[1;32m    111\u001b[0m \u001b[39mif\u001b[39;00m \u001b[39mnot\u001b[39;00m skip_import_verification:\n\u001b[0;32m--> 112\u001b[0m     \u001b[39mself\u001b[39;49m\u001b[39m.\u001b[39;49m_verify_external_sampler()\n\u001b[1;32m    113\u001b[0m \u001b[39mself\u001b[39m\u001b[39m.\u001b[39mexternal_sampler_function \u001b[39m=\u001b[39m \u001b[39mNone\u001b[39;00m\n\u001b[1;32m    114\u001b[0m \u001b[39mself\u001b[39m\u001b[39m.\u001b[39mplot \u001b[39m=\u001b[39m plot\n",
      "File \u001b[0;32m~/miniconda3/envs/ligo/lib/python3.10/site-packages/bilby/core/sampler/ptmcmc.py:78\u001b[0m, in \u001b[0;36mPTMCMCSampler._verify_external_sampler\u001b[0;34m(self)\u001b[0m\n\u001b[1;32m     76\u001b[0m     \u001b[39mself\u001b[39m\u001b[39m.\u001b[39mexternal_sampler \u001b[39m=\u001b[39m \u001b[39m__import__\u001b[39m(external_sampler_name)\n\u001b[1;32m     77\u001b[0m \u001b[39mexcept\u001b[39;00m (\u001b[39mImportError\u001b[39;00m, \u001b[39mSystemExit\u001b[39;00m):\n\u001b[0;32m---> 78\u001b[0m     \u001b[39mraise\u001b[39;00m SamplerNotInstalledError(\n\u001b[1;32m     79\u001b[0m         \u001b[39m\"\u001b[39m\u001b[39mSampler \u001b[39m\u001b[39m{}\u001b[39;00m\u001b[39m is not installed on this system\u001b[39m\u001b[39m\"\u001b[39m\u001b[39m.\u001b[39mformat(external_sampler_name))\n",
      "\u001b[0;31mSamplerNotInstalledError\u001b[0m: Sampler PTMCMCSampler is not installed on this system"
     ]
    }
   ],
   "source": [
    "sampler = bilby.sampler.PTMCMCSampler(likelihood, priors, outdir=outdir, label=label, \n",
    "                                      nwalkers=64, ntemps=8, \n",
    "                                      adapt=True, adaptation_time=10, adaptation_lag=100, Tmax=np.inf)"
   ]
  },
  {
   "cell_type": "code",
   "execution_count": null,
   "metadata": {},
   "outputs": [],
   "source": [
    "nwalkers = 64\n",
    "ntemps = 8\n",
    "ndim = len(priors)\n",
    "sampler = ptemcee.Sampler(nwalkers, ndim, )"
   ]
  }
 ],
 "metadata": {
  "kernelspec": {
   "display_name": "Python 3.10.4 ('ligo')",
   "language": "python",
   "name": "python3"
  },
  "language_info": {
   "codemirror_mode": {
    "name": "ipython",
    "version": 3
   },
   "file_extension": ".py",
   "mimetype": "text/x-python",
   "name": "python",
   "nbconvert_exporter": "python",
   "pygments_lexer": "ipython3",
   "version": "3.10.4"
  },
  "orig_nbformat": 4,
  "vscode": {
   "interpreter": {
    "hash": "d7eb651dd24dd4a46d4c73c2d597d7b7385b94643e16e625fe3dccb1c176bbb7"
   }
  }
 },
 "nbformat": 4,
 "nbformat_minor": 2
}
